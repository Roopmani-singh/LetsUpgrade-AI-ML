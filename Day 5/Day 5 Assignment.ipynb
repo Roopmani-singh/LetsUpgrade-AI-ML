{
 "cells": [
  {
   "cell_type": "code",
   "execution_count": 4,
   "metadata": {},
   "outputs": [
    {
     "name": "stdout",
     "output_type": "stream",
     "text": [
      "[3, 5, 7, 11, 13, 17, 19, 23, 29, 31, 37, 41, 43, 47, 53, 59, 61, 67, 71, 73]\n"
     ]
    }
   ],
   "source": [
    "#Question: 1\n",
    "\n",
    "non_even_prime = []\n",
    "for num in range(2, 100):\n",
    "    for i in range(2, num):\n",
    "        if (num % i) == 0:\n",
    "            break\n",
    "    else:\n",
    "        if len(non_even_prime) == 20:\n",
    "            break\n",
    "        else:\n",
    "            if num % 2 !=0:\n",
    "                non_even_prime.append(num)\n",
    "print(non_even_prime)"
   ]
  },
  {
   "cell_type": "code",
   "execution_count": 6,
   "metadata": {},
   "outputs": [
    {
     "name": "stdout",
     "output_type": "stream",
     "text": [
      "len():- 27\n",
      "title():- Let'S Upgrade Ai Ml Program\n",
      "lower(): let's upgrade ai ml program\n",
      "upper(): LET'S UPGRADE AI ML PROGRAM\n",
      "swapcase():- lET'S uPGRADE ai ml pROGRAM\n",
      "casefold():- let's upgrade ai ml program\n",
      "replace():- Let'z Upgrade AI ML Program\n",
      "join(): Let's_Upgrade_AI_ML_Program\n",
      "split(): [\"Let's\", 'Upgrade', 'AI', 'ML', 'Program']\n",
      "find(): 6\n",
      "count(): 2\n",
      "partition(): (\"Let's\", ' ', 'Upgrade AI ML Program')\n",
      "islower(): False\n",
      "center(): Let's Upgrade AI ML Program\n",
      "isalpha(): False\n"
     ]
    }
   ],
   "source": [
    "#Question: 2\n",
    "txt = \"Let's Upgrade AI ML Program\"\n",
    "\n",
    "print(\"len():-\",len(txt))\n",
    "print(\"title():-\",txt.title())\n",
    "print(\"lower():\",txt.lower())\n",
    "print(\"upper():\",txt.upper())\n",
    "print(\"swapcase():-\", txt.swapcase())\n",
    "print(\"casefold():-\",txt.casefold())\n",
    "print(\"replace():-\",txt.replace(\"s\", \"z\"))\n",
    "print(\"join():\",\"_\".join(txt.split()))\n",
    "print(\"split():\",txt.split())\n",
    "print(\"find():\",txt.find(\"Up\"))\n",
    "print(\"count():\",txt.count(\"e\"))\n",
    "print(\"partition():\",txt.partition(\" \"))\n",
    "print(\"islower():\",txt.islower())\n",
    "print(\"center():\",txt.center(20, \"_\"))\n",
    "print(\"isalpha():\",txt.isalpha())"
   ]
  },
  {
   "cell_type": "code",
   "execution_count": 9,
   "metadata": {},
   "outputs": [
    {
     "name": "stdout",
     "output_type": "stream",
     "text": [
      "'radar' is Palindrome\n",
      "'palindrome' and 'Ireland mop' are Anagram\n",
      "'stop' and 'start' are neither Anagram nor 'stop' is Palindrome\n"
     ]
    }
   ],
   "source": [
    "#Question: 3\n",
    "def check(txt, txt2):\n",
    "    if txt == txt[::-1]:\n",
    "        print(f\"\\'{txt}\\' is Palindrome\")\n",
    "    elif sorted(txt) == sorted(txt2.lower().replace(' ', '')):\n",
    "        print(f\"\\'{txt}\\' and \\'{txt2}\\' are Anagram\")\n",
    "    else:\n",
    "        print(f\"\\'{txt}\\' and \\'{txt2}\\' are neither Anagram nor \\'{txt}\\' is Palindrome\")\n",
    "\n",
    "\n",
    "check('radar', 'rotator')\n",
    "check('palindrome', 'Ireland mop')\n",
    "check('stop', 'start')"
   ]
  },
  {
   "cell_type": "code",
   "execution_count": 12,
   "metadata": {},
   "outputs": [
    {
     "name": "stdout",
     "output_type": "stream",
     "text": [
      "drdarshaningleaimltrainer"
     ]
    }
   ],
   "source": [
    "#Question: 4\n",
    "string = 'Dr. Darshan Ingle @AI-ML Trainer'\n",
    "\n",
    "\n",
    "def remover(txt):\n",
    "    for i in txt.lower():\n",
    "        if i.isalpha():\n",
    "            print(i, end='')\n",
    "\n",
    "\n",
    "remover(string)"
   ]
  }
 ],
 "metadata": {
  "kernelspec": {
   "display_name": "Python 3",
   "language": "python",
   "name": "python3"
  },
  "language_info": {
   "codemirror_mode": {
    "name": "ipython",
    "version": 3
   },
   "file_extension": ".py",
   "mimetype": "text/x-python",
   "name": "python",
   "nbconvert_exporter": "python",
   "pygments_lexer": "ipython3",
   "version": "3.7.6"
  }
 },
 "nbformat": 4,
 "nbformat_minor": 4
}
