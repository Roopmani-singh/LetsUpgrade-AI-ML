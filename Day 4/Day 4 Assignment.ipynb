{
 "cells": [
  {
   "cell_type": "code",
   "execution_count": 1,
   "metadata": {},
   "outputs": [
    {
     "name": "stdout",
     "output_type": "stream",
     "text": [
      "Addition of two complex numbers is:- (19+11j)\n",
      "Subtraction of two complex numbers is:- (1+1j)\n",
      "Multiplication of two complex numbers is:- (60+104j)\n",
      "Division of two complex numbers is:- (1.1320754716981132+0.037735849056603786j)\n",
      "Floor division and modulo operations cannot be performed on complex number\n"
     ]
    }
   ],
   "source": [
    "#Question: 1\n",
    "a = 10 + 6j\n",
    "b = 9 + 5j\n",
    "\n",
    "print(\"Addition of two complex numbers is:-\",a+b)\n",
    "print(\"Subtraction of two complex numbers is:-\",a-b)\n",
    "print(\"Multiplication of two complex numbers is:-\",a*b)\n",
    "print(\"Division of two complex numbers is:-\",a/b)\n",
    "print(\"Floor division and modulo operations cannot be performed on complex number\")"
   ]
  },
  {
   "cell_type": "markdown",
   "metadata": {},
   "source": [
    "# Question: 2\n",
    "\n",
    "# range() Function\n",
    "\n",
    "The range() function is a built-in function in Python that helps us to iterate over a sequence of numbers.It produces an iterator that follows arithmetic progression."
   ]
  },
  {
   "cell_type": "code",
   "execution_count": 4,
   "metadata": {},
   "outputs": [
    {
     "name": "stdout",
     "output_type": "stream",
     "text": [
      "0\n",
      "1\n",
      "2\n",
      "3\n",
      "4\n",
      "5\n",
      "6\n",
      "7\n"
     ]
    }
   ],
   "source": [
    "for i in range(8):\n",
    "    print(i)"
   ]
  },
  {
   "cell_type": "code",
   "execution_count": 7,
   "metadata": {},
   "outputs": [
    {
     "name": "stdout",
     "output_type": "stream",
     "text": [
      "Enter the first number:-100\n",
      "Enter the second number:-50\n",
      "Multiplication of 100 and 50 is 5000\n"
     ]
    }
   ],
   "source": [
    "#Question: 3\n",
    "num1 = int(input(\"Enter the first number:-\"))\n",
    "num2 = int(input(\"Enter the second number:-\"))\n",
    "\n",
    "if num1 - num2 > 25:\n",
    "    print(\"Multiplication of\",num1, \"and\",num2, \"is\", num1 * num2)\n",
    "else:\n",
    "     print(\"Division of\",num1, \"and\",num2, \"is\", num1 /num2)"
   ]
  },
  {
   "cell_type": "code",
   "execution_count": 9,
   "metadata": {},
   "outputs": [
    {
     "name": "stdout",
     "output_type": "stream",
     "text": [
      "Square of 8 minus 2 is: 62\n",
      "Square of 12 minus 2 is: 142\n",
      "Square of 18 minus 2 is: 322\n",
      "Square of 20 minus 2 is: 398\n"
     ]
    }
   ],
   "source": [
    "#Question: 4\n",
    "lst = [1, 3, 8, 12, 15, 18, 17, 19, 20, 21]\n",
    "for i in lst:\n",
    "    if i % 2 == 0:\n",
    "        print(f\"Square of {i} minus 2 is: {i**2-2}\")"
   ]
  },
  {
   "cell_type": "code",
   "execution_count": 11,
   "metadata": {},
   "outputs": [
    {
     "name": "stdout",
     "output_type": "stream",
     "text": [
      "Elements in the list which are greater than 7 when that number is divided by 2: \n",
      "16\n",
      "20\n",
      "32\n",
      "35\n",
      "40\n",
      "45\n"
     ]
    }
   ],
   "source": [
    "#Question: 5\n",
    "lst = [6, 12, 16, 20, 5, 8, 32, 35, 40, 45]\n",
    "print(\"Elements in the list which are greater than 7 when that number is divided by 2: \")\n",
    "for i in lst:\n",
    "    if i/2 > 7:\n",
    "        print(i)"
   ]
  }
 ],
 "metadata": {
  "kernelspec": {
   "display_name": "Python 3",
   "language": "python",
   "name": "python3"
  },
  "language_info": {
   "codemirror_mode": {
    "name": "ipython",
    "version": 3
   },
   "file_extension": ".py",
   "mimetype": "text/x-python",
   "name": "python",
   "nbconvert_exporter": "python",
   "pygments_lexer": "ipython3",
   "version": "3.7.6"
  }
 },
 "nbformat": 4,
 "nbformat_minor": 4
}
