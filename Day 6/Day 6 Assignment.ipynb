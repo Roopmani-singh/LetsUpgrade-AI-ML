{
 "cells": [
  {
   "cell_type": "code",
   "execution_count": 4,
   "metadata": {},
   "outputs": [
    {
     "name": "stdout",
     "output_type": "stream",
     "text": [
      "Company Name from roopmanisingh11@gmail.com : gmail\n"
     ]
    }
   ],
   "source": [
    "#Question:-1\n",
    "\n",
    "mail_id = 'roopmanisingh11@gmail.com'\n",
    "\n",
    "for k in range(len(mail_id)):\n",
    "    if mail_id[k] == '@':\n",
    "        company_name = mail_id[k+1 : mail_id.index('.')]\n",
    "        print(f'Company Name from {mail_id} : {company_name}')"
   ]
  },
  {
   "cell_type": "code",
   "execution_count": 7,
   "metadata": {},
   "outputs": [
    {
     "name": "stdout",
     "output_type": "stream",
     "text": [
      "Enter Words separate by comma (,) : LetsUpgrade,AI-ML,Roopmani,Singh\n",
      "Alphabetic Order words : ['AI-ML', 'LetsUpgrade', 'Roopmani', 'Singh']\n"
     ]
    }
   ],
   "source": [
    "#Question:-2\n",
    "words = input(\"Enter Words separate by comma (,) : \").split(',')\n",
    "sort_words = sorted(words)\n",
    "print(f'Alphabetic Order words : {sort_words}')"
   ]
  },
  {
   "cell_type": "code",
   "execution_count": 15,
   "metadata": {},
   "outputs": [
    {
     "name": "stdout",
     "output_type": "stream",
     "text": [
      "Enter Numbers with a range(1-n) Separate by Space (No Duplicates) : 2 5 1 4 6 8 7 3 10 15 12 13 14 18 19\n",
      "List of Numbers : [1, 2, 3, 4, 5, 6, 7, 8, 10, 12, 13, 14, 15, 18, 19]\n",
      "Missing Number  : 9\n"
     ]
    }
   ],
   "source": [
    "#Question:-4\n",
    "numbers = input(\"Enter Numbers with a range(1-n) Separate by Space (No Duplicates) : \").split(' ')\n",
    "n_list = []\n",
    "for n in numbers: # loop for converting each element into int\n",
    "    n_list.append(int(n))\n",
    "n_list.sort() # To sort numbers in accending\n",
    "print(f'List of Numbers : {n_list}')\n",
    "\n",
    "counter = 1\n",
    "\n",
    "for num in n_list:\n",
    "    if counter == num:\n",
    "        counter+=1\n",
    "    else:\n",
    "        print(f'Missing Number  : {counter}')\n",
    "        break"
   ]
  },
  {
   "cell_type": "code",
   "execution_count": 20,
   "metadata": {},
   "outputs": [
    {
     "name": "stdout",
     "output_type": "stream",
     "text": [
      "Enter Numbers Separate by Space : 9 2 1 3 4 12 124 12 124 9 910\n",
      "List of Numbers : [1, 2, 3, 4, 9, 9, 12, 12, 124, 124, 910]\n",
      "Without Duplicate Numbers : [1, 2, 3, 4, 9, 12, 124, 910] \n"
     ]
    }
   ],
   "source": [
    "#Question:-5\n",
    "numbers = input(\"Enter Numbers Separate by Space : \").split(' ')\n",
    "n_list = []\n",
    "for n in numbers: # loop for converting each element into int\n",
    "    n_list.append(int(n))\n",
    "n_list.sort() # To sort numbers in accending\n",
    "print(f'List of Numbers : {n_list}')\n",
    "\n",
    "print(f'Without Duplicate Numbers : {list(dict.fromkeys(n_list))} ')\n"
   ]
  }
 ],
 "metadata": {
  "kernelspec": {
   "display_name": "Python 3",
   "language": "python",
   "name": "python3"
  },
  "language_info": {
   "codemirror_mode": {
    "name": "ipython",
    "version": 3
   },
   "file_extension": ".py",
   "mimetype": "text/x-python",
   "name": "python",
   "nbconvert_exporter": "python",
   "pygments_lexer": "ipython3",
   "version": "3.7.6"
  }
 },
 "nbformat": 4,
 "nbformat_minor": 4
}
