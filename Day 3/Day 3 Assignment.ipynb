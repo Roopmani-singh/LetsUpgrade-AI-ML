{
 "cells": [
  {
   "cell_type": "code",
   "execution_count": 1,
   "metadata": {},
   "outputs": [
    {
     "name": "stdout",
     "output_type": "stream",
     "text": [
      "subtraction of two complex number is (1+1j)\n"
     ]
    }
   ],
   "source": [
    "#Question: 1\n",
    "a= 5+3j\n",
    "b= 4+2j\n",
    "c= a-b\n",
    "print(\"subtraction of two complex number is\",c)"
   ]
  },
  {
   "cell_type": "code",
   "execution_count": 3,
   "metadata": {},
   "outputs": [
    {
     "name": "stdout",
     "output_type": "stream",
     "text": [
      "fourth root of 16 is 2.0\n"
     ]
    }
   ],
   "source": [
    "#Question: 2\n",
    "a = 16\n",
    "b = 16**(1/4)\n",
    "print(\"fourth root of 16 is\",b)"
   ]
  },
  {
   "cell_type": "code",
   "execution_count": 4,
   "metadata": {},
   "outputs": [
    {
     "name": "stdout",
     "output_type": "stream",
     "text": [
      "Before swapping\n",
      "a = 84\n",
      "b = 55\n",
      "after swapping\n",
      "a = 55\n",
      "b = 84\n"
     ]
    }
   ],
   "source": [
    "#Question: 3\n",
    "print(\"Before swapping\")\n",
    "a = 84\n",
    "b = 55\n",
    "print (\"a =\",a)\n",
    "print (\"b =\",b)\n",
    "print(\"after swapping\")\n",
    "temp = a\n",
    "a = b\n",
    "b = temp\n",
    "print (\"a =\",a)\n",
    "print (\"b =\",b)"
   ]
  },
  {
   "cell_type": "code",
   "execution_count": 14,
   "metadata": {},
   "outputs": [
    {
     "name": "stdout",
     "output_type": "stream",
     "text": [
      "Before swapping\n",
      "a= 84\n",
      "b= 55\n",
      "After Swapping\n",
      "a= 55\n",
      "b= 84\n"
     ]
    }
   ],
   "source": [
    "#Question: 4\n",
    "print(\"Before swapping\")\n",
    "a = 84\n",
    "b = 55\n",
    "print(\"a=\",a)\n",
    "print(\"b=\",b)\n",
    "print(\"After Swapping\")\n",
    "a,b=b,a\n",
    "print(\"a=\",a)\n",
    "print(\"b=\",b)"
   ]
  },
  {
   "cell_type": "code",
   "execution_count": 15,
   "metadata": {},
   "outputs": [
    {
     "name": "stdout",
     "output_type": "stream",
     "text": [
      "Enter the value of fahrenheit:-98\n",
      "Fahrenheit to kelvin is:- 310.1666666666667\n",
      "Fahrenheit to celsius is:- 36.666666666666664\n"
     ]
    }
   ],
   "source": [
    "#Question: 5\n",
    "f = int(input(\"Enter the value of fahrenheit:-\"))\n",
    "k = 273.5 + ((f - 32) * (5/9))\n",
    "c = (f-32)*5/9\n",
    "print(\"Fahrenheit to kelvin is:-\",k)\n",
    "print(\"Fahrenheit to celsius is:-\",c)"
   ]
  },
  {
   "cell_type": "code",
   "execution_count": 16,
   "metadata": {},
   "outputs": [
    {
     "name": "stdout",
     "output_type": "stream",
     "text": [
      "<class 'int'>\n",
      "<class 'float'>\n",
      "<class 'complex'>\n",
      "<class 'str'>\n",
      "<class 'list'>\n",
      "<class 'tuple'>\n",
      "<class 'dict'>\n"
     ]
    }
   ],
   "source": [
    "#Question: 6\n",
    "a = 81\n",
    "b = 8.55\n",
    "c = 6+5j\n",
    "d = \"Lets Upgrade\"\n",
    "e = [\"Roopmani\",\"Singh\"]\n",
    "f = (\"Lets\",\"Upgrade\")\n",
    "g = {\"Name\":\"Roopmani Singh\",\"Course\":\"AI-ML\",\"Offered by\":\"Lets Upgarde\"}\n",
    "\n",
    "print(type(a))\n",
    "print(type(b))\n",
    "print(type(c))\n",
    "print(type(d))\n",
    "print(type(e))\n",
    "print(type(f))\n",
    "print(type(g))"
   ]
  },
  {
   "cell_type": "markdown",
   "metadata": {},
   "source": [
    "# Question: 7\n",
    "\n",
    "# Steps to create Github profile and Upload Assignment in Github\n",
    "\n",
    "(1)Open github.com and create your profile\n",
    "\n",
    "(2)Click on new repository\n",
    "\n",
    "(3)Give a name to your repository which should be LetsUpgrade AI-ML and with the default settings click on create repository.\n",
    "\n",
    "(4)Now in the opened page click on upload an existing file link.\n",
    "\n",
    "(5)On clicking that, drag and drop your file into it and click on commit changes.\n",
    "\n",
    "(5)Now your file is successfully uploaded.\n"
   ]
  }
 ],
 "metadata": {
  "kernelspec": {
   "display_name": "Python 3",
   "language": "python",
   "name": "python3"
  },
  "language_info": {
   "codemirror_mode": {
    "name": "ipython",
    "version": 3
   },
   "file_extension": ".py",
   "mimetype": "text/x-python",
   "name": "python",
   "nbconvert_exporter": "python",
   "pygments_lexer": "ipython3",
   "version": "3.7.6"
  }
 },
 "nbformat": 4,
 "nbformat_minor": 4
}
